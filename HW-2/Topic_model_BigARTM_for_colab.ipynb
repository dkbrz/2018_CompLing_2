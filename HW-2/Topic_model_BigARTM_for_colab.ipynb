{
 "cells": [
  {
   "cell_type": "markdown",
   "metadata": {
    "colab_type": "text",
    "id": "DGYYCeQh0YFl"
   },
   "source": [
    "## Домашнее задание"
   ]
  },
  {
   "cell_type": "markdown",
   "metadata": {
    "colab_type": "text",
    "id": "-Gg8h2Ek0YFl"
   },
   "source": [
    "Основаная задача - **построить хорошую тематическую модель с интерпретируемыми топиками с помощью BigARTM**.\n",
    "\n",
    "1) сделайте нормализацию (если pymorphy2 работает долго используйте mystem или попробуйте установить быструю версию - `pip install pymorphy2[fast]`, можно использовать какой-то другой токенизатор) \n",
    "\n",
    "2) добавьте нграммы (в тетрадке есть закомменченая ячейка с Phrases, можно также попробовать другие способы построить нграммы); \n",
    "\n",
    "3) сохраните тексты .vw формате;\n",
    "\n",
    "4) сделайте хороший словарь (отфильтруйте слишком частотные и редкие слова, попробуйте удалить стоп-слова, сохраните словарь и посмотрите на него, вдруг что-то плохое сразу будет заметно - из словаря можно просто вручную или правилом удалять строки, при загрузке ничего не сломается); \n",
    "\n",
    "5) постройте несколько ARTM моделей (переберите количество тем, поменяйте значения tau у регуляризаторов), если получаются плохие темы, поработайте дополнительно над предобработкой и словарем; \n",
    "\n",
    "6) для самой хорошей модели в отдельной ячейке напечатайте 3 хороших (на ваш вкус) темы\n",
    "\n",
    "7) в другой ячейке нарисуйте график обучения этой модели \n",
    "\n",
    "8) в третьей ячейки опишите какие параметры (количество тем, регуляризаторы, их tau) вы использовали и как обучали (например, после скольки проходов добавили регуляризатор разрежнивания тем (Phi), добавляли ли разреженность документам (Theta) и когда, как повышали значения, сколько итерации модель продожала улучшаться (снижалась перплексия, росли другие метрики);\n",
    "\n",
    "Сохраните тетрадку с экспериментами и положите её на гитхаб, ссылку на неё укажите в форме.\n",
    "\n",
    "**Оцениваться будут главным образом пункты 6, 7 и 8. (3, 1, 4 баллов соответственно). Чтобы заработать остальные 2 балла, нужно хотя бы немного изменить мой код на промежуточных этапах (добавить что-то, указать другие параметры и т.д). **"
   ]
  },
  {
   "cell_type": "code",
   "execution_count": 0,
   "metadata": {
    "colab": {},
    "colab_type": "code",
    "id": "NeAg9EGmlcgb"
   },
   "outputs": [],
   "source": []
  },
  {
   "cell_type": "markdown",
   "metadata": {
    "colab_type": "text",
    "id": "Duy3TaCclcgj"
   },
   "source": [
    "### Установка BigARTM\n",
    "Все точно как в инструкции на их сайте, только без установки питона и пипа."
   ]
  },
  {
   "cell_type": "code",
   "execution_count": 0,
   "metadata": {
    "colab": {},
    "colab_type": "code",
    "id": "onayCA5_0bOP"
   },
   "outputs": [],
   "source": [
    "!apt-get --yes install git make cmake build-essential libboost-all-dev"
   ]
  },
  {
   "cell_type": "code",
   "execution_count": 2,
   "metadata": {
    "colab": {
     "base_uri": "https://localhost:8080/",
     "height": 104
    },
    "colab_type": "code",
    "id": "RUiaLQ520oZH",
    "outputId": "9a9ee2c0-c19a-4323-e0b3-deb3ffd782cb"
   },
   "outputs": [
    {
     "name": "stdout",
     "output_type": "stream",
     "text": [
      "Requirement already satisfied: protobuf in /usr/local/lib/python3.6/dist-packages (3.6.1)\n",
      "Requirement already satisfied: tqdm in /usr/local/lib/python3.6/dist-packages (4.28.1)\n",
      "Requirement already satisfied: wheel in /usr/local/lib/python3.6/dist-packages (0.32.3)\n",
      "Requirement already satisfied: six>=1.9 in /usr/local/lib/python3.6/dist-packages (from protobuf) (1.11.0)\n",
      "Requirement already satisfied: setuptools in /usr/local/lib/python3.6/dist-packages (from protobuf) (40.6.2)\n"
     ]
    }
   ],
   "source": [
    "!pip install protobuf tqdm wheel"
   ]
  },
  {
   "cell_type": "code",
   "execution_count": 3,
   "metadata": {
    "colab": {
     "base_uri": "https://localhost:8080/",
     "height": 139
    },
    "colab_type": "code",
    "id": "XUB9Dk0-05fi",
    "outputId": "b2a44e10-584a-481b-ae99-b30f523fcbf6"
   },
   "outputs": [
    {
     "name": "stdout",
     "output_type": "stream",
     "text": [
      "Cloning into 'bigartm'...\n",
      "remote: Enumerating objects: 45, done.\u001b[K\n",
      "remote: Counting objects: 100% (45/45), done.\u001b[K\n",
      "remote: Compressing objects: 100% (42/42), done.\u001b[K\n",
      "remote: Total 15998 (delta 14), reused 9 (delta 3), pack-reused 15953\u001b[K\n",
      "Receiving objects: 100% (15998/15998), 16.99 MiB | 21.74 MiB/s, done.\n",
      "Resolving deltas: 100% (11147/11147), done.\n"
     ]
    }
   ],
   "source": [
    "!git clone --branch=stable https://github.com/bigartm/bigartm.git"
   ]
  },
  {
   "cell_type": "code",
   "execution_count": 4,
   "metadata": {
    "colab": {
     "base_uri": "https://localhost:8080/",
     "height": 34
    },
    "colab_type": "code",
    "id": "C7ARp6n4081Q",
    "outputId": "e3460f24-d2d0-4828-9860-134dbe7aaf85"
   },
   "outputs": [
    {
     "name": "stdout",
     "output_type": "stream",
     "text": [
      "/content/bigartm\n"
     ]
    }
   ],
   "source": [
    "cd bigartm"
   ]
  },
  {
   "cell_type": "code",
   "execution_count": 0,
   "metadata": {
    "colab": {},
    "colab_type": "code",
    "id": "Gy3B--b40_X0"
   },
   "outputs": [],
   "source": [
    "mkdir build"
   ]
  },
  {
   "cell_type": "code",
   "execution_count": 6,
   "metadata": {
    "colab": {
     "base_uri": "https://localhost:8080/",
     "height": 34
    },
    "colab_type": "code",
    "id": "FNqpGY4_1C4n",
    "outputId": "87dfe617-0b89-4a1d-eaca-a5b2f3dfa4b7"
   },
   "outputs": [
    {
     "name": "stdout",
     "output_type": "stream",
     "text": [
      "/content/bigartm/build\n"
     ]
    }
   ],
   "source": [
    "cd build"
   ]
  },
  {
   "cell_type": "code",
   "execution_count": 0,
   "metadata": {
    "colab": {},
    "colab_type": "code",
    "id": "ol4bRDUD1EDN"
   },
   "outputs": [],
   "source": [
    "!cmake .."
   ]
  },
  {
   "cell_type": "code",
   "execution_count": 0,
   "metadata": {
    "colab": {},
    "colab_type": "code",
    "id": "AcxbRUrQ1IKk"
   },
   "outputs": [],
   "source": [
    "!make"
   ]
  },
  {
   "cell_type": "code",
   "execution_count": 9,
   "metadata": {
    "colab": {
     "base_uri": "https://localhost:8080/",
     "height": 156
    },
    "colab_type": "code",
    "id": "lMaKS0DQ4zSE",
    "outputId": "e4b16540-7fca-4c87-e0fa-bf4587d0c975"
   },
   "outputs": [
    {
     "name": "stdout",
     "output_type": "stream",
     "text": [
      "Processing ./python/bigartm-0.9.0-cp36-cp36m-linux_x86_64.whl\n",
      "Requirement already satisfied, skipping upgrade: numpy in /usr/local/lib/python3.6/dist-packages (from bigartm==0.9.0) (1.14.6)\n",
      "Requirement already satisfied, skipping upgrade: pandas in /usr/local/lib/python3.6/dist-packages (from bigartm==0.9.0) (0.22.0)\n",
      "Requirement already satisfied, skipping upgrade: python-dateutil>=2 in /usr/local/lib/python3.6/dist-packages (from pandas->bigartm==0.9.0) (2.5.3)\n",
      "Requirement already satisfied, skipping upgrade: pytz>=2011k in /usr/local/lib/python3.6/dist-packages (from pandas->bigartm==0.9.0) (2018.7)\n",
      "Requirement already satisfied, skipping upgrade: six>=1.5 in /usr/local/lib/python3.6/dist-packages (from python-dateutil>=2->pandas->bigartm==0.9.0) (1.11.0)\n",
      "Installing collected packages: bigartm\n",
      "Successfully installed bigartm-0.9.0\n"
     ]
    }
   ],
   "source": [
    "\n",
    "!pip install python/bigartm*.whl -U"
   ]
  },
  {
   "cell_type": "markdown",
   "metadata": {
    "colab_type": "text",
    "id": "J0nFuAcrlchZ"
   },
   "source": [
    "Вернемся в изначальную папку."
   ]
  },
  {
   "cell_type": "code",
   "execution_count": 10,
   "metadata": {
    "colab": {
     "base_uri": "https://localhost:8080/",
     "height": 34
    },
    "colab_type": "code",
    "id": "-O8qIuQYlchb",
    "outputId": "9f2c8fbf-0902-4b70-af81-ae5669b98e5c"
   },
   "outputs": [
    {
     "name": "stdout",
     "output_type": "stream",
     "text": [
      "/content\n"
     ]
    }
   ],
   "source": [
    "cd ../.. "
   ]
  },
  {
   "cell_type": "code",
   "execution_count": 0,
   "metadata": {
    "colab": {},
    "colab_type": "code",
    "id": "P6Ay2Ayx3v3W"
   },
   "outputs": [],
   "source": [
    "!pip install pymorphy2[fast] nltk gensim"
   ]
  },
  {
   "cell_type": "code",
   "execution_count": 12,
   "metadata": {
    "colab": {
     "base_uri": "https://localhost:8080/",
     "height": 69
    },
    "colab_type": "code",
    "id": "syGkglti0YFf",
    "outputId": "7ea5847b-b941-4581-ca01-37a3eba41944"
   },
   "outputs": [
    {
     "name": "stderr",
     "output_type": "stream",
     "text": [
      "/usr/local/lib/python3.6/dist-packages/scipy/sparse/sparsetools.py:21: DeprecationWarning: `scipy.sparse.sparsetools` is deprecated!\n",
      "scipy.sparse.sparsetools is a private module for scipy.sparse, and should not be used.\n",
      "  _deprecated()\n"
     ]
    }
   ],
   "source": [
    "import artm\n",
    "%matplotlib inline\n",
    "import glob\n",
    "import os, re\n",
    "import matplotlib.pyplot as plt\n",
    "from collections import defaultdict, Counter\n",
    "from nltk.corpus import stopwords\n",
    "import numpy as np\n",
    "from pymorphy2 import MorphAnalyzer\n",
    "import gensim, nltk\n",
    "morph = MorphAnalyzer()\n",
    "from nltk.tokenize import word_tokenize"
   ]
  },
  {
   "cell_type": "code",
   "execution_count": 13,
   "metadata": {
    "colab": {
     "base_uri": "https://localhost:8080/",
     "height": 69
    },
    "colab_type": "code",
    "id": "DzdHfztLA1L8",
    "outputId": "8cda94a1-2fd6-4a72-c4b2-e09ca253b7e4"
   },
   "outputs": [
    {
     "name": "stdout",
     "output_type": "stream",
     "text": [
      "[nltk_data] Downloading package punkt to /root/nltk_data...\n",
      "[nltk_data]   Unzipping tokenizers/punkt.zip.\n"
     ]
    },
    {
     "data": {
      "text/plain": [
       "True"
      ]
     },
     "execution_count": 13,
     "metadata": {
      "tags": []
     },
     "output_type": "execute_result"
    }
   ],
   "source": [
    "nltk.download('punkt')"
   ]
  },
  {
   "cell_type": "code",
   "execution_count": 0,
   "metadata": {
    "colab": {},
    "colab_type": "code",
    "id": "1hLw-SVu0YFm"
   },
   "outputs": [],
   "source": [
    "def remove_tags(text):\n",
    "    return re.sub(r'<[^>]+>', '', text)\n",
    "\n",
    "def clean(words):\n",
    "    clean = [morph.parse(word)[0].normal_form for word in words if word.isalpha()] #только слова, без цифр\n",
    "    return clean"
   ]
  },
  {
   "cell_type": "code",
   "execution_count": 36,
   "metadata": {
    "colab": {
     "base_uri": "https://localhost:8080/",
     "height": 69
    },
    "colab_type": "code",
    "id": "mU8PreAM8hNN",
    "outputId": "a0cfe180-915a-417f-f0cd-38d776fa0732"
   },
   "outputs": [
    {
     "name": "stdout",
     "output_type": "stream",
     "text": [
      "[nltk_data] Downloading package stopwords to /root/nltk_data...\n",
      "[nltk_data]   Unzipping corpora/stopwords.zip.\n"
     ]
    },
    {
     "data": {
      "text/plain": [
       "True"
      ]
     },
     "execution_count": 36,
     "metadata": {
      "tags": []
     },
     "output_type": "execute_result"
    }
   ],
   "source": [
    "nltk.download('stopwords')"
   ]
  },
  {
   "cell_type": "markdown",
   "metadata": {
    "colab_type": "text",
    "id": "vlgqYxw90YFp"
   },
   "source": [
    "## Возьмем теже данные"
   ]
  },
  {
   "cell_type": "code",
   "execution_count": 0,
   "metadata": {
    "colab": {},
    "colab_type": "code",
    "id": "mp_zp-zR5PJq"
   },
   "outputs": [],
   "source": [
    "!wget https://github.com/mannefedov/compling_nlp_hse_course/raw/master/data/habr_texts.txt.zip"
   ]
  },
  {
   "cell_type": "code",
   "execution_count": 16,
   "metadata": {
    "colab": {
     "base_uri": "https://localhost:8080/",
     "height": 52
    },
    "colab_type": "code",
    "id": "COMPndhTAX1M",
    "outputId": "789d7d8e-c8d2-4ccc-9c67-fe576616ad83"
   },
   "outputs": [
    {
     "name": "stdout",
     "output_type": "stream",
     "text": [
      "Archive:  habr_texts.txt.zip\n",
      "  inflating: habr_texts.txt          \n"
     ]
    }
   ],
   "source": [
    "!unzip habr_texts.txt.zip"
   ]
  },
  {
   "cell_type": "code",
   "execution_count": 0,
   "metadata": {
    "colab": {},
    "colab_type": "code",
    "id": "NDHkAaPb0YFp"
   },
   "outputs": [],
   "source": [
    "habr_texts = [clean(word_tokenize(remove_tags(text.lower()))) for text in open('habr_texts.txt')]"
   ]
  },
  {
   "cell_type": "code",
   "execution_count": 0,
   "metadata": {
    "colab": {},
    "colab_type": "code",
    "id": "o_yHUX490YFr"
   },
   "outputs": [],
   "source": [
    "# вернемся сюда через какое-то время\n",
    "ph = gensim.models.Phrases(habr_texts, scoring='npmi', threshold=0.3, \n",
    "                          common_terms=set(stopwords.words('russian'))) # можно указать слова, которые \n",
    "                                                                          # не будут учитываться\n",
    "p = gensim.models.phrases.Phraser(ph)\n",
    "texts = p[habr_texts]"
   ]
  },
  {
   "cell_type": "markdown",
   "metadata": {
    "colab_type": "text",
    "id": "vOiEF_5H0YFv"
   },
   "source": [
    "Для BigARTM требуется специальный формат данных. Их несколько, но мы возьмем vowpal wabbit.  \n",
    "На каждой строчке файла находится одельный текст, записывается такст вот таким образом:  \n",
    "```doc_name |@class_id word_1:1 word_2:3```  \n",
    "\n",
    "|@class_id - задает модальность, но когда она одна её можно не указывать.\n",
    "\n",
    "word_2:3 - слово и его частота (обратите внимание, что : - специальный символ и в словах его быть не может"
   ]
  },
  {
   "cell_type": "code",
   "execution_count": 0,
   "metadata": {
    "colab": {},
    "colab_type": "code",
    "id": "SZD1bmhR0YFw"
   },
   "outputs": [],
   "source": [
    "f = open('habr_texts.vw', 'w')\n",
    "\n",
    "for i, text in enumerate(texts):\n",
    "    c = Counter(text)\n",
    "    doc = 'doc_'+ str(i) + ' '\n",
    "    vw_text = ' '.join([x+':'+str(c[x]) for x in c])\n",
    "    \n",
    "    f.write(doc + vw_text  + '\\n')\n",
    "f.close()\n",
    "\n"
   ]
  },
  {
   "cell_type": "markdown",
   "metadata": {
    "colab_type": "text",
    "id": "VO4xO6zT0YFy"
   },
   "source": [
    "Для оценки будем использовать такую функцию (из туториалов от создателей библиотеки)"
   ]
  },
  {
   "cell_type": "code",
   "execution_count": 0,
   "metadata": {
    "colab": {},
    "colab_type": "code",
    "id": "xchX4sBs0YFz"
   },
   "outputs": [],
   "source": [
    "def print_measures(model_artm):\n",
    "    print('Sparsity Phi: {0:.3f} ARTM)'.format(\n",
    "        model_artm.score_tracker['SparsityPhiScore'].last_value)\n",
    ")\n",
    "    print('Sparsity Theta: {0:.3f} (ARTM)'.format(\n",
    "        model_artm.score_tracker['SparsityThetaScore'].last_value))\n",
    "\n",
    "    print('Kernel contrast: {0:.3f} (ARTM)'.format(\n",
    "        model_artm.score_tracker['TopicKernelScore'].last_average_contrast))\n",
    "\n",
    "    print('Kernel purity: {0:.3f} (ARTM)'.format(\n",
    "        model_artm.score_tracker['TopicKernelScore'].last_average_purity))\n",
    "\n",
    "    print('Perplexity: {0:.3f} (ARTM)'.format(\n",
    "        model_artm.score_tracker['PerplexityScore'].last_value)\n",
    ")\n",
    "    plt.plot(range(model_artm.num_phi_updates), model_artm.score_tracker['PerplexityScore'].value, 'r--', linewidth=2)\n",
    "    plt.xlabel('Iterations count')\n",
    "    plt.ylabel(' ARTM perp. (red)')\n",
    "    plt.grid(True)\n",
    "    plt.show()\n",
    "    "
   ]
  },
  {
   "cell_type": "markdown",
   "metadata": {
    "colab_type": "text",
    "id": "GHFVe6gK0YF2"
   },
   "source": [
    "BigARTM работает не с целым файлом, а с кусочками. Поэтому разбиваем наш .vw файл специальным классом в artm."
   ]
  },
  {
   "cell_type": "code",
   "execution_count": 0,
   "metadata": {
    "colab": {},
    "colab_type": "code",
    "id": "NhIADC8O0YF2"
   },
   "outputs": [],
   "source": [
    "batch_vectorizer = artm.BatchVectorizer(data_path='habr_texts.vw',  # название файла\n",
    "                                        data_format='vowpal_wabbit', # формат файла, у нас vw\n",
    "                                        target_folder='batches', # название папки в которую положаться батчи\n",
    "                                       batch_size=1000) # размер батча, подбирайте под свою память"
   ]
  },
  {
   "cell_type": "markdown",
   "metadata": {
    "colab_type": "text",
    "id": "ZjXpddzi0YF6"
   },
   "source": [
    "Уже созданные батчи можно заново загружать"
   ]
  },
  {
   "cell_type": "code",
   "execution_count": 0,
   "metadata": {
    "colab": {},
    "colab_type": "code",
    "id": "AG7xR0gu0YF6"
   },
   "outputs": [],
   "source": [
    "batch_vectorizer = artm.BatchVectorizer(data_path='batches', # название папки с батчами\n",
    "                                        data_format='batches') # указываем формат - батчи"
   ]
  },
  {
   "cell_type": "code",
   "execution_count": 0,
   "metadata": {
    "colab": {},
    "colab_type": "code",
    "id": "Qe0-ERcn0YF8"
   },
   "outputs": [],
   "source": [
    "# инициализируем словарь, чтобы сделать модель\n",
    "dictionary = artm.Dictionary()"
   ]
  },
  {
   "cell_type": "markdown",
   "metadata": {
    "colab_type": "text",
    "id": "sNAKhYQZ0YF-"
   },
   "source": [
    "Собираем словарь по батчам"
   ]
  },
  {
   "cell_type": "code",
   "execution_count": 44,
   "metadata": {
    "colab": {
     "base_uri": "https://localhost:8080/",
     "height": 34
    },
    "colab_type": "code",
    "id": "S6nXvdOq0YGA",
    "outputId": "4260e3b9-83e3-45db-e774-edbdb1c7dadf"
   },
   "outputs": [
    {
     "data": {
      "text/plain": [
       "artm.Dictionary(name=0437c059-c721-4b63-93e9-b070347526c9, num_entries=18824)"
      ]
     },
     "execution_count": 44,
     "metadata": {
      "tags": []
     },
     "output_type": "execute_result"
    }
   ],
   "source": [
    "dictionary.gather(data_path='batches')\n",
    "dictionary.filter(class_id='@default_class',\n",
    "                  min_df=10, max_df=2000)"
   ]
  },
  {
   "cell_type": "markdown",
   "metadata": {
    "colab_type": "text",
    "id": "HEuyJjlB0YGB"
   },
   "source": [
    "Его можно сохранить, чтобы не создавать снова или чтобы посмотреть и подредактировать."
   ]
  },
  {
   "cell_type": "code",
   "execution_count": 0,
   "metadata": {
    "colab": {},
    "colab_type": "code",
    "id": "I273a14r0YGC"
   },
   "outputs": [],
   "source": [
    "dictionary.save_text('dict.txt')\n",
    "# dictionary = artm.Dictionary()\n",
    "# dictionary.load_text('dict.txt')"
   ]
  },
  {
   "cell_type": "markdown",
   "metadata": {
    "colab_type": "text",
    "id": "bdMCSZiB0YGE"
   },
   "source": [
    "Создаем модель и сразу включаем два регуляризатора (Декореляции и Сглаживания)"
   ]
  },
  {
   "cell_type": "markdown",
   "metadata": {
    "colab_type": "text",
    "id": "LXN_YR1m0YGF"
   },
   "source": [
    "`artm.DecorrelatorPhiRegularizer` - регуляризатор декорреляции тем, делает темы менее похожими друг на друга (рекомендуется включать его сразу на всех темах с положительным значением tau и не менять его в процессе обучения)  \n",
    "\n",
    "`artm.SmoothSparsePhiRegularizer` - регуляризатор сглаживания/разреженивания Phi (тем) - сглаживает или расреживает распределение слов в темах (отрицательный tau - разреживает, положительный - сглаживает), рекомендуется сразу включать сглаживание на всех темах и не менять его в процессе обучения;\n",
    "\n",
    "Количество тем нужно подбирать, но 200 часто работает хорошо. Снижение количества тем и уменьшения словаря ведут к уменьшению времени обучения модели (а увеличение, наоборот). "
   ]
  },
  {
   "cell_type": "code",
   "execution_count": 0,
   "metadata": {
    "colab": {},
    "colab_type": "code",
    "id": "7gTUMUh90YGG"
   },
   "outputs": [],
   "source": [
    "model_artm = artm.ARTM(topic_names=['topic_{}'.format(i) for i in range(200)],\n",
    "                       \n",
    "                       regularizers=[\n",
    "                           artm.DecorrelatorPhiRegularizer(\n",
    "                                            name='Decorr', tau=0.25, \n",
    "                                            class_ids=['@default_class'],\n",
    "                                            topic_names=['topic_{}'.format(i) for i in range(0, 200)]),\n",
    "                           \n",
    "                           artm.SmoothSparsePhiRegularizer(\n",
    "                                            name='SmoothPhi_1', \n",
    "                                            class_ids=['@default_class'],\n",
    "                                            tau=0.15, \n",
    "                                            topic_names=['topic_{}'.format(i) for i in range(0, 200)])\n",
    "                                    ]\n",
    "                        )\n",
    "\n",
    "# не забывайте менять количество топиков в регуляризаторах, они применяются только на тех темах, что заданы"
   ]
  },
  {
   "cell_type": "code",
   "execution_count": 0,
   "metadata": {
    "colab": {},
    "colab_type": "code",
    "id": "ZXwur8c80YGI"
   },
   "outputs": [],
   "source": [
    "# инициализурем модель словарем\n",
    "model_artm.initialize(dictionary=dictionary, )"
   ]
  },
  {
   "cell_type": "code",
   "execution_count": 0,
   "metadata": {
    "colab": {},
    "colab_type": "code",
    "id": "M7ofKFaN0YGK"
   },
   "outputs": [],
   "source": [
    "# добавляем метрики\n",
    "model_artm.scores.add(artm.PerplexityScore(name='PerplexityScore',\n",
    "                                                    dictionary=dictionary))\n",
    "model_artm.scores.add(artm.SparsityPhiScore(name='SparsityPhiScore')) # разреженность слов в темах\n",
    "model_artm.scores.add(artm.SparsityThetaScore(name='SparsityThetaScore')) # разреженность тем в доках\n",
    "model_artm.scores.add(artm.TopicKernelScore(name='TopicKernelScore', probability_mass_threshold=0.1)) # когерентность по семантичесим ядрам\n",
    "model_artm.scores.add(artm.TopTokensScore(class_id='@default_class', name='TopTokensScore_1', num_tokens=10)) # топ-n-слов для каждой темы "
   ]
  },
  {
   "cell_type": "markdown",
   "metadata": {
    "colab_type": "text",
    "id": "A7ih3cp10YGM"
   },
   "source": [
    "### Тренируем модель"
   ]
  },
  {
   "cell_type": "markdown",
   "metadata": {
    "colab_type": "text",
    "id": "vkujg5tp0YGN"
   },
   "source": [
    "Пройдемся несколько раз по коллекции, чтобы модель немного сошлась (если доков сильно больше то может быть достаточно и 1 прохода). Для сильно больших коллекций есть fit_online, который обновляется в процессе прохода по коллекции, про него можно почитать в документации."
   ]
  },
  {
   "cell_type": "code",
   "execution_count": 0,
   "metadata": {
    "colab": {},
    "colab_type": "code",
    "id": "d3UPM4bd0YGO"
   },
   "outputs": [],
   "source": [
    "model_artm.num_document_passes = 2\n",
    "model_artm.fit_offline(batch_vectorizer=batch_vectorizer, num_collection_passes=3)"
   ]
  },
  {
   "cell_type": "code",
   "execution_count": 29,
   "metadata": {
    "colab": {
     "base_uri": "https://localhost:8080/",
     "height": 366
    },
    "colab_type": "code",
    "id": "sJNAHoO30YGR",
    "outputId": "8fde7c0d-cef0-4b70-bacb-2232a5ec4e54"
   },
   "outputs": [
    {
     "name": "stdout",
     "output_type": "stream",
     "text": [
      "Sparsity Phi: 0.000 ARTM)\n",
      "Sparsity Theta: 0.000 (ARTM)\n",
      "Kernel contrast: 0.001 (ARTM)\n",
      "Kernel purity: 0.000 (ARTM)\n",
      "Perplexity: 4367.815 (ARTM)\n"
     ]
    },
    {
     "data": {
      "image/png": "[encoded data removed]",
      "text/plain": [
       "<matplotlib.figure.Figure at 0x7fe2da12ac50>"
      ]
     },
     "metadata": {
      "tags": []
     },
     "output_type": "display_data"
    }
   ],
   "source": [
    "# посмотрим, что стало с моделью\n",
    "# если график сильно падал на последних итерациях, то можно прогнать обучение ещё несколько раз \n",
    "# (не добавляя другие регуляризаторы)\n",
    "print_measures(model_artm)"
   ]
  },
  {
   "cell_type": "markdown",
   "metadata": {
    "colab_type": "text",
    "id": "ESVQUJm90YGU"
   },
   "source": [
    "Добавим регуляризаторы разреженности тем и документов.\n",
    "\n",
    "Их рекомендуется добавлять после того, как модель уже как-то сошлась. После добавления их рекомендуется постепенно уменьшать, чтобы усиливать разреживание. Их можно применять не ко всем темам, чтобы в каких-то темах собрались все стоп-слова.\n",
    "\n",
    "Можно добавлять их вместе или по отдельности."
   ]
  },
  {
   "cell_type": "code",
   "execution_count": 0,
   "metadata": {
    "colab": {},
    "colab_type": "code",
    "id": "zx8f5J140YGU"
   },
   "outputs": [],
   "source": [
    "model_artm.regularizers.add(artm.SmoothSparsePhiRegularizer(name='SparsePhi', tau=-0.15, \n",
    "                                                            topic_names=['topic_{}'.format(i) for i in range(1, 200)],\n",
    "                                                            ))\n",
    "model_artm.regularizers.add(artm.SmoothSparseThetaRegularizer(name='SparseTheta', tau=-0.15, \n",
    "                                                              topic_names=['topic_{}'.format(i) for i in range(1, 200)]))"
   ]
  },
  {
   "cell_type": "code",
   "execution_count": 0,
   "metadata": {
    "colab": {},
    "colab_type": "code",
    "id": "d-XyXPrF0YGX"
   },
   "outputs": [],
   "source": [
    "model_artm.fit_offline(batch_vectorizer=batch_vectorizer,num_collection_passes=1)"
   ]
  },
  {
   "cell_type": "code",
   "execution_count": 0,
   "metadata": {
    "colab": {},
    "colab_type": "code",
    "id": "CWrgduzK0YGY"
   },
   "outputs": [],
   "source": [
    "# будем постепенно увеличивать значения этих регуляризаторов\n",
    "phi_tau = model_artm.regularizers['SparsePhi'].tau\n",
    "theta_tau = model_artm.regularizers['SparseTheta'].tau\n",
    "\n",
    "for i in range(10):\n",
    "    model_artm.regularizers['SparsePhi'].tau = (phi_tau + (phi_tau*0.5))\n",
    "    model_artm.regularizers['SparseTheta'].tau = (theta_tau + (theta_tau*0.1))\n",
    "    \n",
    "    model_artm.fit_offline(batch_vectorizer=batch_vectorizer,num_collection_passes=1)\n",
    "    "
   ]
  },
  {
   "cell_type": "code",
   "execution_count": 33,
   "metadata": {
    "colab": {
     "base_uri": "https://localhost:8080/",
     "height": 366
    },
    "colab_type": "code",
    "id": "Nz2ZycN80YGb",
    "outputId": "12244a08-44aa-4fa5-c75b-c3bce28c1832"
   },
   "outputs": [
    {
     "name": "stdout",
     "output_type": "stream",
     "text": [
      "Sparsity Phi: 0.787 ARTM)\n",
      "Sparsity Theta: 0.090 (ARTM)\n",
      "Kernel contrast: 0.266 (ARTM)\n",
      "Kernel purity: 0.234 (ARTM)\n",
      "Perplexity: 2136.518 (ARTM)\n"
     ]
    },
    {
     "data": {
      "image/png": "[encoded data removed]",
      "text/plain": [
       "<matplotlib.figure.Figure at 0x7fe2d86c5668>"
      ]
     },
     "metadata": {
      "tags": []
     },
     "output_type": "display_data"
    }
   ],
   "source": [
    "# посмотрим на качество\n",
    "print_measures(model_artm)"
   ]
  },
  {
   "cell_type": "markdown",
   "metadata": {
    "colab_type": "text",
    "id": "r0pGwdLb0YGg"
   },
   "source": [
    "Перплексия должна снижаться. Если график выровнился и больше не меняется - модель сошлась. Обычно перплексия хорошей модели около 200-1000. На таком небольшом количестве данных возможно такого значения достичь не получится."
   ]
  },
  {
   "cell_type": "code",
   "execution_count": 0,
   "metadata": {
    "colab": {},
    "colab_type": "code",
    "id": "tDeYG2kt0YGg"
   },
   "outputs": [],
   "source": [
    "# посмотрим на темы\n",
    "for topic_name in model_artm.topic_names[:50]:\n",
    "    print(topic_name + ': ')\n",
    "    try:\n",
    "        for x in model_artm.score_tracker['TopTokensScore_1'].last_tokens[topic_name]:\n",
    "            print(x)\n",
    "        print('---------')\n",
    "    \n",
    "    except KeyError: # можно перекрутить параметры и некоторые темы окажутся пустыми\n",
    "        continue"
   ]
  },
  {
   "cell_type": "code",
   "execution_count": 0,
   "metadata": {
    "colab": {},
    "colab_type": "code",
    "id": "NAUy5VNu0YGi"
   },
   "outputs": [],
   "source": [
    "def ntopics():\n",
    "    for i in [20, 50, 100, 200, 500]:\n",
    "        model_artm = artm.ARTM(topic_names=['topic_{}'.format(i) for i in range(i)],\n",
    "\n",
    "                           regularizers=[\n",
    "                               artm.DecorrelatorPhiRegularizer(\n",
    "                                                name='Decorr', tau=0.25, \n",
    "                                                class_ids=['@default_class'],\n",
    "                                                topic_names=['topic_{}'.format(i) for i in range(0, i)]),\n",
    "\n",
    "                               artm.SmoothSparsePhiRegularizer(\n",
    "                                                name='SmoothPhi_1', \n",
    "                                                class_ids=['@default_class'],\n",
    "                                                tau=0.15, \n",
    "                                                topic_names=['topic_{}'.format(i) for i in range(0, i)])\n",
    "                                        ]\n",
    "                            )\n",
    "        model_artm.initialize(dictionary=dictionary, )\n",
    "\n",
    "        model_artm.scores.add(artm.PerplexityScore(name='PerplexityScore',\n",
    "                                                            dictionary=dictionary))\n",
    "        model_artm.scores.add(artm.SparsityPhiScore(name='SparsityPhiScore')) # разреженность слов в темах\n",
    "        model_artm.scores.add(artm.SparsityThetaScore(name='SparsityThetaScore')) # разреженность тем в доках\n",
    "        model_artm.scores.add(artm.TopicKernelScore(name='TopicKernelScore', probability_mass_threshold=0.1)) # когерентность по семантичесим ядрам\n",
    "        model_artm.scores.add(artm.TopTokensScore(class_id='@default_class', name='TopTokensScore_1', num_tokens=10)) # топ-n-слов для каждой темы \n",
    "\n",
    "        model_artm.num_document_passes = 2\n",
    "        model_artm.fit_offline(batch_vectorizer=batch_vectorizer, num_collection_passes=5)\n",
    "        print (i)\n",
    "        print_measures(model_artm)"
   ]
  },
  {
   "cell_type": "code",
   "execution_count": 48,
   "metadata": {
    "colab": {
     "base_uri": "https://localhost:8080/",
     "height": 1848
    },
    "colab_type": "code",
    "id": "CvWA2HlD-687",
    "outputId": "b54c07fd-e625-44c4-a9cd-ffde484d4797",
    "scrolled": false
   },
   "outputs": [
    {
     "name": "stdout",
     "output_type": "stream",
     "text": [
      "20\n",
      "Sparsity Phi: 0.000 ARTM)\n",
      "Sparsity Theta: 0.000 (ARTM)\n",
      "Kernel contrast: 0.116 (ARTM)\n",
      "Kernel purity: 0.118 (ARTM)\n",
      "Perplexity: 5096.045 (ARTM)\n"
     ]
    },
    {
     "data": {
      "image/png": "[encoded data removed]",
      "text/plain": [
       "<matplotlib.figure.Figure at 0x7fe2caef0278>"
      ]
     },
     "metadata": {
      "tags": []
     },
     "output_type": "display_data"
    },
    {
     "name": "stdout",
     "output_type": "stream",
     "text": [
      "50\n",
      "Sparsity Phi: 0.000 ARTM)\n",
      "Sparsity Theta: 0.000 (ARTM)\n",
      "Kernel contrast: 0.040 (ARTM)\n",
      "Kernel purity: 0.003 (ARTM)\n",
      "Perplexity: 5116.341 (ARTM)\n"
     ]
    },
    {
     "data": {
      "image/png": "[encoded data removed]",
      "text/plain": [
       "<matplotlib.figure.Figure at 0x7fe2caef06d8>"
      ]
     },
     "metadata": {
      "tags": []
     },
     "output_type": "display_data"
    },
    {
     "name": "stdout",
     "output_type": "stream",
     "text": [
      "100\n",
      "Sparsity Phi: 0.000 ARTM)\n",
      "Sparsity Theta: 0.000 (ARTM)\n",
      "Kernel contrast: 0.021 (ARTM)\n",
      "Kernel purity: 0.001 (ARTM)\n",
      "Perplexity: 5178.619 (ARTM)\n"
     ]
    },
    {
     "data": {
      "image/png": "[encoded data removed]",
      "text/plain": [
       "<matplotlib.figure.Figure at 0x7fe2cae97748>"
      ]
     },
     "metadata": {
      "tags": []
     },
     "output_type": "display_data"
    },
    {
     "name": "stdout",
     "output_type": "stream",
     "text": [
      "200\n",
      "Sparsity Phi: 0.000 ARTM)\n",
      "Sparsity Theta: 0.000 (ARTM)\n",
      "Kernel contrast: 0.006 (ARTM)\n",
      "Kernel purity: 0.001 (ARTM)\n",
      "Perplexity: 5329.729 (ARTM)\n"
     ]
    },
    {
     "data": {
      "image/png": "[encoded data removed]",
      "text/plain": [
       "<matplotlib.figure.Figure at 0x7fe2cae97160>"
      ]
     },
     "metadata": {
      "tags": []
     },
     "output_type": "display_data"
    },
    {
     "name": "stdout",
     "output_type": "stream",
     "text": [
      "500\n",
      "Sparsity Phi: 0.000 ARTM)\n",
      "Sparsity Theta: 0.000 (ARTM)\n",
      "Kernel contrast: 0.001 (ARTM)\n",
      "Kernel purity: 0.000 (ARTM)\n",
      "Perplexity: 5838.728 (ARTM)\n"
     ]
    },
    {
     "data": {
      "image/png": "[encoded data removed]",
      "text/plain": [
       "<matplotlib.figure.Figure at 0x7fe2caecbc88>"
      ]
     },
     "metadata": {
      "tags": []
     },
     "output_type": "display_data"
    }
   ],
   "source": [
    "ntopics()"
   ]
  },
  {
   "cell_type": "code",
   "execution_count": 0,
   "metadata": {
    "colab": {},
    "colab_type": "code",
    "id": "HN_sZ4ti_zOT"
   },
   "outputs": [],
   "source": [
    "def tau():\n",
    "    i = 50 #возьмем 50 тем\n",
    "    for t in [0.01, 0.1, 0.25, 0.5, 1]:\n",
    "        model_artm = artm.ARTM(topic_names=['topic_{}'.format(i) for i in range(i)],\n",
    "\n",
    "                           regularizers=[\n",
    "                               artm.DecorrelatorPhiRegularizer(\n",
    "                                                name='Decorr', tau=t, \n",
    "                                                class_ids=['@default_class'],\n",
    "                                                topic_names=['topic_{}'.format(i) for i in range(0, i)]),\n",
    "\n",
    "                               artm.SmoothSparsePhiRegularizer(\n",
    "                                                name='SmoothPhi_1', \n",
    "                                                class_ids=['@default_class'],\n",
    "                                                tau=t, \n",
    "                                                topic_names=['topic_{}'.format(i) for i in range(0, i)])\n",
    "                                        ]\n",
    "                            )\n",
    "        model_artm.initialize(dictionary=dictionary, )\n",
    "\n",
    "        model_artm.scores.add(artm.PerplexityScore(name='PerplexityScore',\n",
    "                                                            dictionary=dictionary))\n",
    "        model_artm.scores.add(artm.SparsityPhiScore(name='SparsityPhiScore')) # разреженность слов в темах\n",
    "        model_artm.scores.add(artm.SparsityThetaScore(name='SparsityThetaScore')) # разреженность тем в доках\n",
    "        model_artm.scores.add(artm.TopicKernelScore(name='TopicKernelScore', probability_mass_threshold=0.1)) # когерентность по семантичесим ядрам\n",
    "        model_artm.scores.add(artm.TopTokensScore(class_id='@default_class', name='TopTokensScore_1', num_tokens=10)) # топ-n-слов для каждой темы \n",
    "\n",
    "        model_artm.num_document_passes = 2\n",
    "        model_artm.fit_offline(batch_vectorizer=batch_vectorizer, num_collection_passes=5)\n",
    "        print (t)\n",
    "        print_measures(model_artm)"
   ]
  },
  {
   "cell_type": "code",
   "execution_count": 55,
   "metadata": {
    "colab": {
     "base_uri": "https://localhost:8080/",
     "height": 1848
    },
    "colab_type": "code",
    "id": "ILv-DIAJAFTw",
    "outputId": "f628edc6-6b23-47ad-d6f3-835a5d419e47",
    "scrolled": false
   },
   "outputs": [
    {
     "name": "stdout",
     "output_type": "stream",
     "text": [
      "0.01\n",
      "Sparsity Phi: 0.000 ARTM)\n",
      "Sparsity Theta: 0.000 (ARTM)\n",
      "Kernel contrast: 0.094 (ARTM)\n",
      "Kernel purity: 0.005 (ARTM)\n",
      "Perplexity: 5074.576 (ARTM)\n"
     ]
    },
    {
     "data": {
      "image/png": "[encoded data removed]",
      "text/plain": [
       "<matplotlib.figure.Figure at 0x7fe2c9d8c0b8>"
      ]
     },
     "metadata": {
      "tags": []
     },
     "output_type": "display_data"
    },
    {
     "name": "stdout",
     "output_type": "stream",
     "text": [
      "0.1\n",
      "Sparsity Phi: 0.000 ARTM)\n",
      "Sparsity Theta: 0.000 (ARTM)\n",
      "Kernel contrast: 0.046 (ARTM)\n",
      "Kernel purity: 0.004 (ARTM)\n",
      "Perplexity: 5099.287 (ARTM)\n"
     ]
    },
    {
     "data": {
      "image/png": "[encoded data removed]",
      "text/plain": [
       "<matplotlib.figure.Figure at 0x7fe2d7df3c50>"
      ]
     },
     "metadata": {
      "tags": []
     },
     "output_type": "display_data"
    },
    {
     "name": "stdout",
     "output_type": "stream",
     "text": [
      "0.25\n",
      "Sparsity Phi: 0.000 ARTM)\n",
      "Sparsity Theta: 0.000 (ARTM)\n",
      "Kernel contrast: 0.038 (ARTM)\n",
      "Kernel purity: 0.003 (ARTM)\n",
      "Perplexity: 5155.968 (ARTM)\n"
     ]
    },
    {
     "data": {
      "image/png": "[encoded data removed]",
      "text/plain": [
       "<matplotlib.figure.Figure at 0x7fe2d7df34a8>"
      ]
     },
     "metadata": {
      "tags": []
     },
     "output_type": "display_data"
    },
    {
     "name": "stdout",
     "output_type": "stream",
     "text": [
      "0.5\n",
      "Sparsity Phi: 0.000 ARTM)\n",
      "Sparsity Theta: 0.000 (ARTM)\n",
      "Kernel contrast: 0.042 (ARTM)\n",
      "Kernel purity: 0.002 (ARTM)\n",
      "Perplexity: 5275.621 (ARTM)\n"
     ]
    },
    {
     "data": {
      "image/png": "[encoded data removed]",
      "text/plain": [
       "<matplotlib.figure.Figure at 0x7fe2c9caff60>"
      ]
     },
     "metadata": {
      "tags": []
     },
     "output_type": "display_data"
    },
    {
     "name": "stdout",
     "output_type": "stream",
     "text": [
      "1\n",
      "Sparsity Phi: 0.000 ARTM)\n",
      "Sparsity Theta: 0.000 (ARTM)\n",
      "Kernel contrast: 0.030 (ARTM)\n",
      "Kernel purity: 0.001 (ARTM)\n",
      "Perplexity: 5551.354 (ARTM)\n"
     ]
    },
    {
     "data": {
      "image/png": "[encoded data removed]",
      "text/plain": [
       "<matplotlib.figure.Figure at 0x7fe2c9359e48>"
      ]
     },
     "metadata": {
      "tags": []
     },
     "output_type": "display_data"
    }
   ],
   "source": [
    "tau()"
   ]
  },
  {
   "cell_type": "code",
   "execution_count": 60,
   "metadata": {
    "colab": {
     "base_uri": "https://localhost:8080/",
     "height": 366
    },
    "colab_type": "code",
    "id": "NBfRUldyCl2I",
    "outputId": "e559de1b-dc6b-4619-8fe3-5812649b69a3"
   },
   "outputs": [
    {
     "name": "stdout",
     "output_type": "stream",
     "text": [
      "Sparsity Phi: 0.000 ARTM)\n",
      "Sparsity Theta: 0.000 (ARTM)\n",
      "Kernel contrast: 0.094 (ARTM)\n",
      "Kernel purity: 0.005 (ARTM)\n",
      "Perplexity: 5074.575 (ARTM)\n"
     ]
    },
    {
     "data": {
      "image/png": "[encoded data removed]",
      "text/plain": [
       "<matplotlib.figure.Figure at 0x7fe2d86d77f0>"
      ]
     },
     "metadata": {
      "tags": []
     },
     "output_type": "display_data"
    }
   ],
   "source": [
    "model_artm = artm.ARTM(topic_names=['topic_{}'.format(i) for i in range(50)],\n",
    "                       \n",
    "                       regularizers=[\n",
    "                           artm.DecorrelatorPhiRegularizer(\n",
    "                                            name='Decorr', tau=0.01, \n",
    "                                            class_ids=['@default_class'],\n",
    "                                            topic_names=['topic_{}'.format(i) for i in range(0, 50)]),\n",
    "                           \n",
    "                           artm.SmoothSparsePhiRegularizer(\n",
    "                                            name='SmoothPhi_1', \n",
    "                                            class_ids=['@default_class'],\n",
    "                                            tau=0.01, \n",
    "                                            topic_names=['topic_{}'.format(i) for i in range(0, 50)])\n",
    "                                    ]\n",
    "                        )\n",
    "\n",
    "model_artm.initialize(dictionary=dictionary, )\n",
    "\n",
    "model_artm.scores.add(artm.PerplexityScore(name='PerplexityScore',\n",
    "                                                        dictionary=dictionary))\n",
    "model_artm.scores.add(artm.SparsityPhiScore(name='SparsityPhiScore')) # разреженность слов в темах\n",
    "model_artm.scores.add(artm.SparsityThetaScore(name='SparsityThetaScore')) # разреженность тем в доках\n",
    "model_artm.scores.add(artm.TopicKernelScore(name='TopicKernelScore', probability_mass_threshold=0.1)) # когерентность по семантичесим ядрам\n",
    "model_artm.scores.add(artm.TopTokensScore(class_id='@default_class', name='TopTokensScore_1', num_tokens=10)) # топ-n-слов для каждой темы \n",
    "    \n",
    "model_artm.num_document_passes = 2\n",
    "model_artm.fit_offline(batch_vectorizer=batch_vectorizer, num_collection_passes=5)\n",
    "print_measures(model_artm)"
   ]
  },
  {
   "cell_type": "code",
   "execution_count": 0,
   "metadata": {
    "colab": {},
    "colab_type": "code",
    "id": "lE9d-hbsC_V_"
   },
   "outputs": [],
   "source": [
    "model_artm.regularizers.add(artm.SmoothSparsePhiRegularizer(name='SparsePhi', tau=-0.2, #больше\n",
    "                                                            topic_names=['topic_{}'.format(i) for i in range(1, 50)],\n",
    "                                                            ))\n",
    "model_artm.regularizers.add(artm.SmoothSparseThetaRegularizer(name='SparseTheta', tau=-0.2, #больше\n",
    "                                                              topic_names=['topic_{}'.format(i) for i in range(1, 50)]))\n",
    "\n",
    "\n",
    "model_artm.fit_offline(batch_vectorizer=batch_vectorizer,num_collection_passes=1)"
   ]
  },
  {
   "cell_type": "code",
   "execution_count": 62,
   "metadata": {
    "colab": {
     "base_uri": "https://localhost:8080/",
     "height": 366
    },
    "colab_type": "code",
    "id": "GtJZ7lJKDWV0",
    "outputId": "ba7621de-caf9-48df-bf2b-22decdf9a797"
   },
   "outputs": [
    {
     "name": "stdout",
     "output_type": "stream",
     "text": [
      "Sparsity Phi: 0.918 ARTM)\n",
      "Sparsity Theta: 0.058 (ARTM)\n",
      "Kernel contrast: 0.456 (ARTM)\n",
      "Kernel purity: 0.783 (ARTM)\n",
      "Perplexity: 2843.995 (ARTM)\n"
     ]
    },
    {
     "data": {
      "image/png": "[encoded data removed]",
      "text/plain": [
       "<matplotlib.figure.Figure at 0x7fe2c91e65f8>"
      ]
     },
     "metadata": {
      "tags": []
     },
     "output_type": "display_data"
    }
   ],
   "source": [
    "# будем постепенно увеличивать значения этих регуляризаторов\n",
    "phi_tau = model_artm.regularizers['SparsePhi'].tau\n",
    "theta_tau = model_artm.regularizers['SparseTheta'].tau\n",
    "\n",
    "for i in range(25): #посмотрим дальше\n",
    "    model_artm.regularizers['SparsePhi'].tau = (phi_tau + (phi_tau*0.5))\n",
    "    model_artm.regularizers['SparseTheta'].tau = (theta_tau + (theta_tau*0.1))\n",
    "    \n",
    "    model_artm.fit_offline(batch_vectorizer=batch_vectorizer,num_collection_passes=2)\n",
    "    \n",
    "    \n",
    "print_measures(model_artm)"
   ]
  },
  {
   "cell_type": "code",
   "execution_count": 65,
   "metadata": {
    "colab": {
     "base_uri": "https://localhost:8080/",
     "height": 642
    },
    "colab_type": "code",
    "id": "al_UQXaADbK8",
    "outputId": "0b6e0dc6-671a-4855-ebe6-0fe770b41ee6"
   },
   "outputs": [
    {
     "name": "stdout",
     "output_type": "stream",
     "text": [
      "topic_0: \n",
      "мозг\n",
      "изменение\n",
      "образ\n",
      "происходить\n",
      "клетка\n",
      "состояние\n",
      "активность\n",
      "информация\n",
      "механизм\n",
      "между\n",
      "---------\n",
      "topic_1: \n",
      "безопасность\n",
      "защита\n",
      "атака\n",
      "компьютер\n",
      "уязвимость\n",
      "проблема\n",
      "известный\n",
      "под\n",
      "microsoft\n",
      "злоумышленник\n",
      "---------\n",
      "topic_3: \n",
      "страна\n",
      "российский\n",
      "организация\n",
      "являться\n",
      "информация\n",
      "россия\n",
      "закон\n",
      "сша\n",
      "открытый\n",
      "принять\n",
      "---------\n"
     ]
    }
   ],
   "source": [
    "# посмотрим на темы\n",
    "for topic_name in np.array(model_artm.topic_names)[[0,1,3]]:\n",
    "    print(topic_name + ': ')\n",
    "    try:\n",
    "        for x in model_artm.score_tracker['TopTokensScore_1'].last_tokens[topic_name]:\n",
    "            print(x)\n",
    "        print('---------')\n",
    "    \n",
    "    except KeyError: # можно перекрутить параметры и некоторые темы окажутся пустыми\n",
    "        continue"
   ]
  },
  {
   "cell_type": "markdown",
   "metadata": {},
   "source": [
    "1. Оставлены только слова, без цифр\n",
    "1. Добавлены фразы\n",
    "2. Количество тем выбрано 50 (по итогам экспериментов)\n",
    "3. Изменено тау - оказалось, что с маленьким результаты лучше\n",
    "4. В итоге ядра более выделимые, больше контраст между темами\n",
    "5. Темы хорошо интерпретируемые\n",
    "6. Фи и тета при подкрутке сделаны больше, в итоге до 20 итераций снижается сильно, потом до 40 плавно, дальше примерно прямая"
   ]
  }
 ],
 "metadata": {
  "colab": {
   "name": "Topic_model_BigARTM_for_colab.ipynb",
   "provenance": [],
   "version": "0.3.2"
  },
  "kernelspec": {
   "display_name": "Python 3",
   "language": "python",
   "name": "python3"
  },
  "language_info": {
   "codemirror_mode": {
    "name": "ipython",
    "version": 3
   },
   "file_extension": ".py",
   "mimetype": "text/x-python",
   "name": "python",
   "nbconvert_exporter": "python",
   "pygments_lexer": "ipython3",
   "version": "3.5.2"
  }
 },
 "nbformat": 4,
 "nbformat_minor": 1
}
